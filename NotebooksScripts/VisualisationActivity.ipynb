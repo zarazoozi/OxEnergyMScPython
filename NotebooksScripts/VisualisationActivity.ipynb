{
 "cells": [
  {
   "cell_type": "markdown",
   "metadata": {},
   "source": [
    "# Data Visualisation\n",
    "\n",
    "Data visualisation is one of the most powerful tools for a data scientist (or more generally anyone analysing data). Not only does it allow us to quickly understand our data through identifying patterns, trends, outliers etc, it allows us to transform that data into a narrative to communicate our (sometimes complex) narrative to both technical and non-technical audiences.\n",
    "\n",
    "<iframe src=\"https://ourworldindata.org/grapher/per-capita-energy-use?tab=map\" loading=\"lazy\" style=\"width: 100%; height: 600px; border: 0px none;\" allow=\"web-share; clipboard-write\"></iframe>"
   ]
  },
  {
   "cell_type": "markdown",
   "metadata": {},
   "source": [
    "## Matplotlib.pyplot\n",
    "Matplotlib is one of the most widely used Python libraries for data visualization. It offers a comprehensive and flexible system for creating static, animated, and interactive plots.\n",
    "\n",
    "Lets go ahead and import matplotlib, specifically the pyplot submodule.\n"
   ]
  },
  {
   "cell_type": "code",
   "execution_count": null,
   "metadata": {},
   "outputs": [],
   "source": [
    "import matplotlib.pyplot as plt    \n",
    "import numpy as np\n",
    "\n",
    "%matplotlib inline\n",
    "# Any guesses as to what the line above does?   \n"
   ]
  },
  {
   "cell_type": "markdown",
   "metadata": {},
   "source": [
    "Matplotlib is object-orientated. Some of the basic components (or objects) of Matplotlib are:\n",
    "- **Figure**: The entire window or page where the plot appears. It can contain one or more subplots\n",
    "- **Axes** (subplot): The area where the data is plotted, which includes labels, ticks, lines and grids.\n",
    "- **Plotting functions**: A wide range of functions to plot different kinds of data e.g. plot(), bar(), scatter()."
   ]
  },
  {
   "cell_type": "markdown",
   "metadata": {},
   "source": [
    "### Now, let's create a very simple plot to get the point across  \n",
    "You can access the plotting functions directly from the pyplot module itself, this is often the quickest way to plot and explore data."
   ]
  },
  {
   "cell_type": "code",
   "execution_count": null,
   "metadata": {},
   "outputs": [],
   "source": [
    "# Create your x and y data using the Numpy library\n",
    "\n",
    "x1 = np.linspace(0, 10, 30)\n",
    "y1 = np.sin(x1)                         \n",
    "\n",
    "plt.plot(x1, y1, 'o', color='black');         # There are many ways of coding in black as a colour"
   ]
  },
  {
   "cell_type": "markdown",
   "metadata": {},
   "source": [
    "There are many ways to customise plots (and many to achieve the same outcome, e.g. the shortcut string used below)"
   ]
  },
  {
   "cell_type": "code",
   "execution_count": null,
   "metadata": {},
   "outputs": [],
   "source": [
    "# For instance:\n",
    "plt.plot(x1, y1, '--xk');\n"
   ]
  },
  {
   "cell_type": "markdown",
   "metadata": {},
   "source": [
    "You can also change the entire style of plotting at a module level"
   ]
  },
  {
   "cell_type": "code",
   "execution_count": null,
   "metadata": {},
   "outputs": [],
   "source": [
    "# get a list of available styles, pick one and try out in the next cell\n",
    "print(plt.style.available)"
   ]
  },
  {
   "cell_type": "code",
   "execution_count": null,
   "metadata": {},
   "outputs": [],
   "source": [
    "#plt.style.use('_classic_test_patch') \n",
    "\n",
    "plt.plot(x1, y1, '*-', color='purple', markersize=10, linewidth=2)"
   ]
  },
  {
   "cell_type": "markdown",
   "metadata": {},
   "source": [
    "### Let's now create some random data for plotting in the following examples. Your plots should all look different from those of your peers. Your job is to comment on the code below\n",
    "\n",
    "&nbsp;"
   ]
  },
  {
   "cell_type": "code",
   "execution_count": null,
   "metadata": {},
   "outputs": [],
   "source": [
    "rng = np.random.RandomState(0)                  \n",
    "x2 = rng.rand(500)*10\n",
    "y2 = rng.rand(500)*10\n",
    "colors = rng.rand(500)\n",
    "sizes = 1000 * rng.rand(500)\n",
    "\n",
    "plt.scatter(x2, y2, c=colors, s=sizes, alpha=0.35,\n",
    "            cmap='plasma')\n",
    "cbar = plt.colorbar()\n",
    "\n",
    "plt.show()"
   ]
  },
  {
   "cell_type": "markdown",
   "metadata": {},
   "source": [
    "### Now go ahead and make the following additions to the plot above:\n",
    "&nbsp;\n",
    "\n",
    "1. Add axis labels. Try to choose appropriate ones assuming that the plot represents energy data\n",
    "2. Choose a different colour scheme\n",
    "3. Try changing the x and y axis ranges\n",
    "4. Increase the size of your plot to take up roughly the width of the screen\n",
    "5. Add an appropriate label to your colourbar (`colorbar`) and rotate 270 degrees"
   ]
  },
  {
   "cell_type": "code",
   "execution_count": null,
   "metadata": {},
   "outputs": [],
   "source": [
    "#adding axis labels and title\n",
    "plt.scatter(x2, y2, c=colors, s=sizes, alpha=0.35, cmap='plasma')\n",
    "plt.title(\"Raccoon ownership\", fontsize=16, fontweight='bold', color='darkblue')  # Graph title\n",
    "plt.xlabel(\"number of raccons per household\", fontsize=12)    # X-axis label\n",
    "plt.ylabel(\"people in the households\", fontsize=12)   # Y-axis label\n",
    "cbar = plt.colorbar()"
   ]
  },
  {
   "cell_type": "markdown",
   "metadata": {},
   "source": [
    "\n",
    "<details><summary>Click here when instructed</summary>\n",
    "<p>\n",
    "\n",
    "#### Here are some sample lines of code that will work. \n",
    "\n",
    "```python\n",
    "\n",
    "#1\n",
    "plt.xlabel('GDP Growth Index')\n",
    "plt.ylabel('Energy Acceleration Index')\n",
    "\n",
    "#2\n",
    "# You can use many of the schemes such as 'plasma'. Consult the Matplotlib.org website for more options \n",
    "\n",
    "#3\n",
    "plt.xlim(-6,6)                    # Notice how important scaling is in representing your data?\n",
    "plt.ylim(-6,6)\n",
    "\n",
    "#4\n",
    "plt.figure(figsize=(20,10))       # However, this needs to come before you plot the data. Canvas before paint!\n",
    "\n",
    "#5\n",
    "cbar = plt.colorbar(); \n",
    "cbar.set_label('Normalized population', rotation=270)\n",
    "```\n",
    "\n",
    "</p>\n",
    "</details>\n",
    "\n"
   ]
  },
  {
   "cell_type": "markdown",
   "metadata": {},
   "source": [
    "### Using Figures\n",
    "Using the plt. shortcut is fine for basic data exploration, but how do you refer back to the sin plot you created first. Your latest plots have overridden it. \n",
    "\n",
    "As you generate more plots, plots get more complex, or you want to use subplots, it is good practise to use a more formal structure where you assign plots and their axes to variables.\n",
    "\n",
    "7. Finish of the code below to create a subplot containing the two previous plots."
   ]
  },
  {
   "cell_type": "code",
   "execution_count": 62,
   "metadata": {},
   "outputs": [
    {
     "ename": "ValueError",
     "evalue": "'c' argument has 500 elements, which is inconsistent with 'x' and 'y' with size 30.",
     "output_type": "error",
     "traceback": [
      "\u001b[31m---------------------------------------------------------------------------\u001b[39m",
      "\u001b[31mValueError\u001b[39m                                Traceback (most recent call last)",
      "\u001b[36mFile \u001b[39m\u001b[32m~/miniforge3/envs/my_first_env/lib/python3.12/site-packages/matplotlib/axes/_axes.py:4761\u001b[39m, in \u001b[36mAxes._parse_scatter_color_args\u001b[39m\u001b[34m(c, edgecolors, kwargs, xsize, get_next_color_func)\u001b[39m\n\u001b[32m   4760\u001b[39m \u001b[38;5;28;01mtry\u001b[39;00m:  \u001b[38;5;66;03m# Is 'c' acceptable as PathCollection facecolors?\u001b[39;00m\n\u001b[32m-> \u001b[39m\u001b[32m4761\u001b[39m     colors = \u001b[43mmcolors\u001b[49m\u001b[43m.\u001b[49m\u001b[43mto_rgba_array\u001b[49m\u001b[43m(\u001b[49m\u001b[43mc\u001b[49m\u001b[43m)\u001b[49m\n\u001b[32m   4762\u001b[39m \u001b[38;5;28;01mexcept\u001b[39;00m (\u001b[38;5;167;01mTypeError\u001b[39;00m, \u001b[38;5;167;01mValueError\u001b[39;00m) \u001b[38;5;28;01mas\u001b[39;00m err:\n",
      "\u001b[36mFile \u001b[39m\u001b[32m~/miniforge3/envs/my_first_env/lib/python3.12/site-packages/matplotlib/colors.py:515\u001b[39m, in \u001b[36mto_rgba_array\u001b[39m\u001b[34m(c, alpha)\u001b[39m\n\u001b[32m    514\u001b[39m \u001b[38;5;28;01melse\u001b[39;00m:\n\u001b[32m--> \u001b[39m\u001b[32m515\u001b[39m     rgba = np.array([\u001b[43mto_rgba\u001b[49m\u001b[43m(\u001b[49m\u001b[43mcc\u001b[49m\u001b[43m)\u001b[49m \u001b[38;5;28;01mfor\u001b[39;00m cc \u001b[38;5;129;01min\u001b[39;00m c])\n\u001b[32m    517\u001b[39m \u001b[38;5;28;01mif\u001b[39;00m alpha \u001b[38;5;129;01mis\u001b[39;00m \u001b[38;5;129;01mnot\u001b[39;00m \u001b[38;5;28;01mNone\u001b[39;00m:\n",
      "\u001b[36mFile \u001b[39m\u001b[32m~/miniforge3/envs/my_first_env/lib/python3.12/site-packages/matplotlib/colors.py:317\u001b[39m, in \u001b[36mto_rgba\u001b[39m\u001b[34m(c, alpha)\u001b[39m\n\u001b[32m    316\u001b[39m \u001b[38;5;28;01mif\u001b[39;00m rgba \u001b[38;5;129;01mis\u001b[39;00m \u001b[38;5;28;01mNone\u001b[39;00m:  \u001b[38;5;66;03m# Suppress exception chaining of cache lookup failure.\u001b[39;00m\n\u001b[32m--> \u001b[39m\u001b[32m317\u001b[39m     rgba = \u001b[43m_to_rgba_no_colorcycle\u001b[49m\u001b[43m(\u001b[49m\u001b[43mc\u001b[49m\u001b[43m,\u001b[49m\u001b[43m \u001b[49m\u001b[43malpha\u001b[49m\u001b[43m)\u001b[49m\n\u001b[32m    318\u001b[39m     \u001b[38;5;28;01mtry\u001b[39;00m:\n",
      "\u001b[36mFile \u001b[39m\u001b[32m~/miniforge3/envs/my_first_env/lib/python3.12/site-packages/matplotlib/colors.py:401\u001b[39m, in \u001b[36m_to_rgba_no_colorcycle\u001b[39m\u001b[34m(c, alpha)\u001b[39m\n\u001b[32m    400\u001b[39m \u001b[38;5;28;01mif\u001b[39;00m \u001b[38;5;129;01mnot\u001b[39;00m np.iterable(c):\n\u001b[32m--> \u001b[39m\u001b[32m401\u001b[39m     \u001b[38;5;28;01mraise\u001b[39;00m \u001b[38;5;167;01mValueError\u001b[39;00m(\u001b[33mf\u001b[39m\u001b[33m\"\u001b[39m\u001b[33mInvalid RGBA argument: \u001b[39m\u001b[38;5;132;01m{\u001b[39;00morig_c\u001b[38;5;132;01m!r}\u001b[39;00m\u001b[33m\"\u001b[39m)\n\u001b[32m    402\u001b[39m \u001b[38;5;28;01mif\u001b[39;00m \u001b[38;5;28mlen\u001b[39m(c) \u001b[38;5;129;01mnot\u001b[39;00m \u001b[38;5;129;01min\u001b[39;00m [\u001b[32m3\u001b[39m, \u001b[32m4\u001b[39m]:\n",
      "\u001b[31mValueError\u001b[39m: Invalid RGBA argument: np.float64(0.5928802707811576)",
      "\nThe above exception was the direct cause of the following exception:\n",
      "\u001b[31mValueError\u001b[39m                                Traceback (most recent call last)",
      "\u001b[36mCell\u001b[39m\u001b[36m \u001b[39m\u001b[32mIn[62]\u001b[39m\u001b[32m, line 5\u001b[39m\n\u001b[32m      3\u001b[39m ax1.set_ylabel(\u001b[33m'\u001b[39m\u001b[33ma\u001b[39m\u001b[33m'\u001b[39m)  \u001b[38;5;66;03m# define a y label\u001b[39;00m\n\u001b[32m      4\u001b[39m ax1.set_xlabel(\u001b[33m'\u001b[39m\u001b[33mb\u001b[39m\u001b[33m'\u001b[39m) \u001b[38;5;66;03m# define an x label\u001b[39;00m\n\u001b[32m----> \u001b[39m\u001b[32m5\u001b[39m dot =  \u001b[43max2\u001b[49m\u001b[43m.\u001b[49m\u001b[43mscatter\u001b[49m\u001b[43m(\u001b[49m\u001b[43mx2\u001b[49m\u001b[43m,\u001b[49m\u001b[43my2\u001b[49m\u001b[43m,\u001b[49m\u001b[43m \u001b[49m\u001b[43mc\u001b[49m\u001b[43m=\u001b[49m\u001b[43mcolors\u001b[49m\u001b[43m,\u001b[49m\u001b[43m \u001b[49m\u001b[43mz\u001b[49m\u001b[43m=\u001b[49m\u001b[43msizes\u001b[49m\u001b[43m,\u001b[49m\u001b[43m \u001b[49m\u001b[43malpha\u001b[49m\u001b[43m=\u001b[49m\u001b[32;43m0.3\u001b[39;49m\u001b[43m,\u001b[49m\n\u001b[32m      6\u001b[39m \u001b[43m                   \u001b[49m\u001b[43mcmap\u001b[49m\u001b[43m=\u001b[49m\u001b[33;43m'\u001b[39;49m\u001b[33;43mplasma\u001b[39;49m\u001b[33;43m'\u001b[39;49m\u001b[43m)\u001b[49m\n\u001b[32m      7\u001b[39m cbar = fig.colorbar(dot, ax=ax2)\n\u001b[32m      8\u001b[39m cbar.set_label(\u001b[33m'\u001b[39m\u001b[33mNormalized population\u001b[39m\u001b[33m'\u001b[39m, rotation=\u001b[32m270\u001b[39m)  \u001b[38;5;66;03m# add a label to the color bar\u001b[39;00m\n",
      "\u001b[36mFile \u001b[39m\u001b[32m~/miniforge3/envs/my_first_env/lib/python3.12/site-packages/matplotlib/_api/deprecation.py:453\u001b[39m, in \u001b[36mmake_keyword_only.<locals>.wrapper\u001b[39m\u001b[34m(*args, **kwargs)\u001b[39m\n\u001b[32m    447\u001b[39m \u001b[38;5;28;01mif\u001b[39;00m \u001b[38;5;28mlen\u001b[39m(args) > name_idx:\n\u001b[32m    448\u001b[39m     warn_deprecated(\n\u001b[32m    449\u001b[39m         since, message=\u001b[33m\"\u001b[39m\u001b[33mPassing the \u001b[39m\u001b[38;5;132;01m%(name)s\u001b[39;00m\u001b[33m \u001b[39m\u001b[38;5;132;01m%(obj_type)s\u001b[39;00m\u001b[33m \u001b[39m\u001b[33m\"\u001b[39m\n\u001b[32m    450\u001b[39m         \u001b[33m\"\u001b[39m\u001b[33mpositionally is deprecated since Matplotlib \u001b[39m\u001b[38;5;132;01m%(since)s\u001b[39;00m\u001b[33m; the \u001b[39m\u001b[33m\"\u001b[39m\n\u001b[32m    451\u001b[39m         \u001b[33m\"\u001b[39m\u001b[33mparameter will become keyword-only in \u001b[39m\u001b[38;5;132;01m%(removal)s\u001b[39;00m\u001b[33m.\u001b[39m\u001b[33m\"\u001b[39m,\n\u001b[32m    452\u001b[39m         name=name, obj_type=\u001b[33mf\u001b[39m\u001b[33m\"\u001b[39m\u001b[33mparameter of \u001b[39m\u001b[38;5;132;01m{\u001b[39;00mfunc.\u001b[34m__name__\u001b[39m\u001b[38;5;132;01m}\u001b[39;00m\u001b[33m()\u001b[39m\u001b[33m\"\u001b[39m)\n\u001b[32m--> \u001b[39m\u001b[32m453\u001b[39m \u001b[38;5;28;01mreturn\u001b[39;00m \u001b[43mfunc\u001b[49m\u001b[43m(\u001b[49m\u001b[43m*\u001b[49m\u001b[43margs\u001b[49m\u001b[43m,\u001b[49m\u001b[43m \u001b[49m\u001b[43m*\u001b[49m\u001b[43m*\u001b[49m\u001b[43mkwargs\u001b[49m\u001b[43m)\u001b[49m\n",
      "\u001b[36mFile \u001b[39m\u001b[32m~/miniforge3/envs/my_first_env/lib/python3.12/site-packages/matplotlib/__init__.py:1524\u001b[39m, in \u001b[36m_preprocess_data.<locals>.inner\u001b[39m\u001b[34m(ax, data, *args, **kwargs)\u001b[39m\n\u001b[32m   1521\u001b[39m \u001b[38;5;129m@functools\u001b[39m.wraps(func)\n\u001b[32m   1522\u001b[39m \u001b[38;5;28;01mdef\u001b[39;00m\u001b[38;5;250m \u001b[39m\u001b[34minner\u001b[39m(ax, *args, data=\u001b[38;5;28;01mNone\u001b[39;00m, **kwargs):\n\u001b[32m   1523\u001b[39m     \u001b[38;5;28;01mif\u001b[39;00m data \u001b[38;5;129;01mis\u001b[39;00m \u001b[38;5;28;01mNone\u001b[39;00m:\n\u001b[32m-> \u001b[39m\u001b[32m1524\u001b[39m         \u001b[38;5;28;01mreturn\u001b[39;00m \u001b[43mfunc\u001b[49m\u001b[43m(\u001b[49m\n\u001b[32m   1525\u001b[39m \u001b[43m            \u001b[49m\u001b[43max\u001b[49m\u001b[43m,\u001b[49m\n\u001b[32m   1526\u001b[39m \u001b[43m            \u001b[49m\u001b[43m*\u001b[49m\u001b[38;5;28;43mmap\u001b[39;49m\u001b[43m(\u001b[49m\u001b[43mcbook\u001b[49m\u001b[43m.\u001b[49m\u001b[43msanitize_sequence\u001b[49m\u001b[43m,\u001b[49m\u001b[43m \u001b[49m\u001b[43margs\u001b[49m\u001b[43m)\u001b[49m\u001b[43m,\u001b[49m\n\u001b[32m   1527\u001b[39m \u001b[43m            \u001b[49m\u001b[43m*\u001b[49m\u001b[43m*\u001b[49m\u001b[43m{\u001b[49m\u001b[43mk\u001b[49m\u001b[43m:\u001b[49m\u001b[43m \u001b[49m\u001b[43mcbook\u001b[49m\u001b[43m.\u001b[49m\u001b[43msanitize_sequence\u001b[49m\u001b[43m(\u001b[49m\u001b[43mv\u001b[49m\u001b[43m)\u001b[49m\u001b[43m \u001b[49m\u001b[38;5;28;43;01mfor\u001b[39;49;00m\u001b[43m \u001b[49m\u001b[43mk\u001b[49m\u001b[43m,\u001b[49m\u001b[43m \u001b[49m\u001b[43mv\u001b[49m\u001b[43m \u001b[49m\u001b[38;5;129;43;01min\u001b[39;49;00m\u001b[43m \u001b[49m\u001b[43mkwargs\u001b[49m\u001b[43m.\u001b[49m\u001b[43mitems\u001b[49m\u001b[43m(\u001b[49m\u001b[43m)\u001b[49m\u001b[43m}\u001b[49m\u001b[43m)\u001b[49m\n\u001b[32m   1529\u001b[39m     bound = new_sig.bind(ax, *args, **kwargs)\n\u001b[32m   1530\u001b[39m     auto_label = (bound.arguments.get(label_namer)\n\u001b[32m   1531\u001b[39m                   \u001b[38;5;129;01mor\u001b[39;00m bound.kwargs.get(label_namer))\n",
      "\u001b[36mFile \u001b[39m\u001b[32m~/miniforge3/envs/my_first_env/lib/python3.12/site-packages/matplotlib/axes/_axes.py:4954\u001b[39m, in \u001b[36mAxes.scatter\u001b[39m\u001b[34m(self, x, y, s, c, marker, cmap, norm, vmin, vmax, alpha, linewidths, edgecolors, colorizer, plotnonfinite, **kwargs)\u001b[39m\n\u001b[32m   4951\u001b[39m \u001b[38;5;28;01mif\u001b[39;00m edgecolors \u001b[38;5;129;01mis\u001b[39;00m \u001b[38;5;28;01mNone\u001b[39;00m:\n\u001b[32m   4952\u001b[39m     orig_edgecolor = kwargs.get(\u001b[33m'\u001b[39m\u001b[33medgecolor\u001b[39m\u001b[33m'\u001b[39m, \u001b[38;5;28;01mNone\u001b[39;00m)\n\u001b[32m   4953\u001b[39m c, colors, edgecolors = \\\n\u001b[32m-> \u001b[39m\u001b[32m4954\u001b[39m     \u001b[38;5;28;43mself\u001b[39;49m\u001b[43m.\u001b[49m\u001b[43m_parse_scatter_color_args\u001b[49m\u001b[43m(\u001b[49m\n\u001b[32m   4955\u001b[39m \u001b[43m        \u001b[49m\u001b[43mc\u001b[49m\u001b[43m,\u001b[49m\u001b[43m \u001b[49m\u001b[43medgecolors\u001b[49m\u001b[43m,\u001b[49m\u001b[43m \u001b[49m\u001b[43mkwargs\u001b[49m\u001b[43m,\u001b[49m\u001b[43m \u001b[49m\u001b[43mx\u001b[49m\u001b[43m.\u001b[49m\u001b[43msize\u001b[49m\u001b[43m,\u001b[49m\n\u001b[32m   4956\u001b[39m \u001b[43m        \u001b[49m\u001b[43mget_next_color_func\u001b[49m\u001b[43m=\u001b[49m\u001b[38;5;28;43mself\u001b[39;49m\u001b[43m.\u001b[49m\u001b[43m_get_patches_for_fill\u001b[49m\u001b[43m.\u001b[49m\u001b[43mget_next_color\u001b[49m\u001b[43m)\u001b[49m\n\u001b[32m   4958\u001b[39m \u001b[38;5;28;01mif\u001b[39;00m plotnonfinite \u001b[38;5;129;01mand\u001b[39;00m colors \u001b[38;5;129;01mis\u001b[39;00m \u001b[38;5;28;01mNone\u001b[39;00m:\n\u001b[32m   4959\u001b[39m     c = np.ma.masked_invalid(c)\n",
      "\u001b[36mFile \u001b[39m\u001b[32m~/miniforge3/envs/my_first_env/lib/python3.12/site-packages/matplotlib/axes/_axes.py:4767\u001b[39m, in \u001b[36mAxes._parse_scatter_color_args\u001b[39m\u001b[34m(c, edgecolors, kwargs, xsize, get_next_color_func)\u001b[39m\n\u001b[32m   4765\u001b[39m \u001b[38;5;28;01melse\u001b[39;00m:\n\u001b[32m   4766\u001b[39m     \u001b[38;5;28;01mif\u001b[39;00m \u001b[38;5;129;01mnot\u001b[39;00m valid_shape:\n\u001b[32m-> \u001b[39m\u001b[32m4767\u001b[39m         \u001b[38;5;28;01mraise\u001b[39;00m invalid_shape_exception(c.size, xsize) \u001b[38;5;28;01mfrom\u001b[39;00m\u001b[38;5;250m \u001b[39m\u001b[34;01merr\u001b[39;00m\n\u001b[32m   4768\u001b[39m     \u001b[38;5;66;03m# Both the mapping *and* the RGBA conversion failed: pretty\u001b[39;00m\n\u001b[32m   4769\u001b[39m     \u001b[38;5;66;03m# severe failure => one may appreciate a verbose feedback.\u001b[39;00m\n\u001b[32m   4770\u001b[39m     \u001b[38;5;28;01mraise\u001b[39;00m \u001b[38;5;167;01mValueError\u001b[39;00m(\n\u001b[32m   4771\u001b[39m         \u001b[33mf\u001b[39m\u001b[33m\"\u001b[39m\u001b[33m'\u001b[39m\u001b[33mc\u001b[39m\u001b[33m'\u001b[39m\u001b[33m argument must be a color, a sequence of colors, \u001b[39m\u001b[33m\"\u001b[39m\n\u001b[32m   4772\u001b[39m         \u001b[33mf\u001b[39m\u001b[33m\"\u001b[39m\u001b[33mor a sequence of numbers, not \u001b[39m\u001b[38;5;132;01m{\u001b[39;00mc\u001b[38;5;132;01m!r}\u001b[39;00m\u001b[33m\"\u001b[39m) \u001b[38;5;28;01mfrom\u001b[39;00m\u001b[38;5;250m \u001b[39m\u001b[34;01merr\u001b[39;00m\n",
      "\u001b[31mValueError\u001b[39m: 'c' argument has 500 elements, which is inconsistent with 'x' and 'y' with size 30."
     ]
    },
    {
     "data": {
      "image/png": "[encoded data removed]",
      "text/plain": [
       "<Figure size 800x550 with 2 Axes>"
      ]
     },
     "metadata": {},
     "output_type": "display_data"
    }
   ],
   "source": [
    "fig, (ax1, ax2) = plt.subplots(nrows=1, ncols=2)  # create a figure containing multiple axes\n",
    "sn = ax1.plot(x1,y1,\"-\", color=\"blue\")  # plot sin data as solid blue line \n",
    "ax1.set_ylabel('a')  # define a y label\n",
    "ax1.set_xlabel('b') # define an x label\n",
    "dot =  ax2.scatter(x2,y2, c=colors, z=sizes, alpha=0.3,\n",
    "                   cmap='plasma')\n",
    "cbar = fig.colorbar(dot, ax=ax2)\n",
    "cbar.set_label('Normalized population', rotation=270)  # add a label to the color bar\n",
    "fig.tight_layout()\n",
    "plt.show()  # plot the figure"
   ]
  },
  {
   "cell_type": "markdown",
   "metadata": {},
   "source": [
    "\n",
    "<details><summary>Click here when instructed</summary>\n",
    "<p>\n",
    "\n",
    "#### Here are some sample lines of code that will work. \n",
    "\n",
    "```python\n",
    "\n",
    "fig, (ax1, ax2) = plt.subplots(nrows=1, ncols=2)\n",
    "sn = ax1.plot(x1, y1, '-', color='blue'); \n",
    "ax1.set_ylabel('a')\n",
    "ax1.set_xlabel('b')\n",
    "dot = ax2.scatter(x2, y2, c=colors, s=sizes, alpha=0.3,\n",
    "            cmap='viridis')\n",
    "cbar=fig.colorbar(dot, ax=ax2)\n",
    "cbar.set_label('Normalized population', rotation=270)\n",
    "fig.tight_layout()\n",
    "plt.show(fig)\n",
    "```\n",
    "\n",
    "</p>\n",
    "</details>\n",
    "\n"
   ]
  },
  {
   "cell_type": "markdown",
   "metadata": {},
   "source": [
    "## Seaborn Activity"
   ]
  },
  {
   "cell_type": "markdown",
   "metadata": {},
   "source": [
    "Seaborn is a statistical visualisation library built on matplotlib. In many cases, it makes plotting of statistical analysis easier and more attactive without the need for additional lines of code as would be the case if only using matplotlib.\n",
    "\n",
    "In the code block below, using hourly energy and indoor environmental quality (IEQ) data from Holywell House, use pandas and seaborn to \n",
    "1) import separate electricity, gas, IEQ and outdoor temperature data using pandas and concatonate into a single dataframe.\n",
    "2) Start exploring the data. What is there? Are there any gaps in the data?\n",
    "3) Resampling the data to daily, think about what aggregation function(s) are appropraite for the different variables. You can apply particular aggregation functions to variables by providing a dictionary {col:func} to the ```resample().agg()``` method.\n",
    "4) explore relationships between a subset of features of your choosing using [pairplot](https://seaborn.pydata.org/generated/seaborn.pairplot.html).\n",
    "5) Looking at electricity and gas, which features show the strongest, if any, correlation? Plot the linear regression for this pair of features with [jointplot](https://seaborn.pydata.org/generated/seaborn.jointplot.html#seaborn.jointplot)\n",
    "6) Derive a new feature, day of the week using your datetime index - in machine learning, this is called Feature Engineering. Explore if there are any correlations between day of the week and energy use. You may wish to use the 'hue' parameter of jointplot to condition on this new categorical data or try using the [catplot](https://seaborn.pydata.org/tutorial/categorical.html) function.\n"
   ]
  },
  {
   "cell_type": "code",
   "execution_count": null,
   "metadata": {},
   "outputs": [],
   "source": [
    "# 1) import separate electricity, gas, IEQ and outdoor temperature data using pandas.\n",
    "import seaborn as sns\n",
    "import pandas as pd\n",
    "ieq = pd.read_csv('../Data/HH_level1_IEQ.csv', index_col=0, parse_dates=True) # file: HH_level1_IEQ.csv\n",
    "outdoor = pd.read_csv('../Data/HH_outside_TH.csv', index_col=0, parse_dates=True)   # file: HH_outside_TH.csv\n",
    "elec = pd.read_csv('../Data/HH_elec.csv', index_col=0, parse_dates=True) \n",
    "gas =  pd.read_csv('../Data/HH_gas.csv', index_col=0, parse_dates=True)# file: HH_gas.csv\n",
    "\n",
    "# concatonate into a single dataframe\n",
    "combined = pd.concat([ieq, outdoor, elec, gas], axis=1)"
   ]
  },
  {
   "cell_type": "code",
   "execution_count": 65,
   "metadata": {},
   "outputs": [
    {
     "ename": "NameError",
     "evalue": "name 'combined' is not defined",
     "output_type": "error",
     "traceback": [
      "\u001b[31m---------------------------------------------------------------------------\u001b[39m",
      "\u001b[31mNameError\u001b[39m                                 Traceback (most recent call last)",
      "\u001b[36mCell\u001b[39m\u001b[36m \u001b[39m\u001b[32mIn[65]\u001b[39m\u001b[32m, line 2\u001b[39m\n\u001b[32m      1\u001b[39m \u001b[38;5;66;03m# explore the data\u001b[39;00m\n\u001b[32m----> \u001b[39m\u001b[32m2\u001b[39m \u001b[43mcombined\u001b[49m.columns\n",
      "\u001b[31mNameError\u001b[39m: name 'combined' is not defined"
     ]
    }
   ],
   "source": [
    "# explore the data\n",
    "combined.columns"
   ]
  },
  {
   "cell_type": "code",
   "execution_count": null,
   "metadata": {},
   "outputs": [],
   "source": [
    "# 3) Resampling the data to daily\n",
    "combined_resampled = combined."
   ]
  },
  {
   "cell_type": "code",
   "execution_count": null,
   "metadata": {},
   "outputs": [],
   "source": [
    "# check the data was resampled correctly\n",
    "combined_resampled.head()"
   ]
  },
  {
   "cell_type": "code",
   "execution_count": null,
   "metadata": {},
   "outputs": [],
   "source": [
    "# 4) Using seaborn, create a pairplot of the resampled data to explore relationships between variables.\n"
   ]
  },
  {
   "cell_type": "code",
   "execution_count": null,
   "metadata": {},
   "outputs": [],
   "source": [
    "# 5) Using seaborn, create a jointplot of two variables that show a correlation.\n",
    "sns.jointplot(combined_resampled, x='out_T', y='Gas (kWh)', kind='reg')"
   ]
  },
  {
   "cell_type": "code",
   "execution_count": null,
   "metadata": {},
   "outputs": [],
   "source": [
    "# 6) Add a day of week column to the resampled dataframe and use seaborn to explore any correlations between day of week and energy use.\n"
   ]
  },
  {
   "cell_type": "markdown",
   "metadata": {},
   "source": [
    "## Plotly\n",
    "While matplotlib is the python standard for creating static plots for analysis and publication, Plotly offers a powerful alternative when you need interactive, web-ready visualizations - an increasingly used tool for communicating your work ([OurWorldInData](https://ourworldindata.org/) is a fantastic example of this). \n",
    "\n",
    "Plotly automatically generates interactive plots that allow users to zoom, pan, hover for details, and toggle data series on/off - features that can transform a static chart into an engaging, exploratory tool.\n",
    "\n",
    "Plotly figures are often rendered in a browser window or in jupyter notebooks. Working with plotly has a similar architecture to matplotlib, however, there are many powerful features that make creating attractive plots very easy. \n",
    "\n",
    "Below is an example of plotly using the Holywell House data you imported above. Use the interactive tools to explore the data."
   ]
  },
  {
   "cell_type": "code",
   "execution_count": null,
   "metadata": {},
   "outputs": [],
   "source": [
    "# Create an interactive bar chart with Plotly - bars side by side\n",
    "import plotly.graph_objects as go\n",
    "\n",
    "# Create a single subplot (no secondary y-axis for true side-by-side bars)\n",
    "fig = go.Figure()\n",
    "\n",
    "# Add electricity consumption as bars\n",
    "fig.add_trace(\n",
    "    go.Bar(\n",
    "        x=combined_resampled.index,\n",
    "        y=combined_resampled['Electricity (kWh)'],\n",
    "        name='Electricity (kWh)',\n",
    "        marker_color='blue',\n",
    "        opacity=0.7\n",
    "    )\n",
    ")\n",
    "\n",
    "# Add gas consumption as bars\n",
    "fig.add_trace(\n",
    "    go.Bar(\n",
    "        x=combined_resampled.index,\n",
    "        y=combined_resampled['Gas (kWh)'],\n",
    "        name='Gas (kWh)',\n",
    "        marker_color='red',\n",
    "        opacity=0.7\n",
    "    )\n",
    ")\n",
    "\n",
    "# Update layout\n",
    "fig.update_layout(\n",
    "    title=\"Daily Energy Consumption at Holywell House - Side by Side Bars\",\n",
    "    xaxis_title=\"Date\",\n",
    "    yaxis_title=\"Energy Consumption (kWh)\",\n",
    "    hovermode='x unified',\n",
    "    width=900,\n",
    "    height=500,\n",
    "    barmode='group'  # This ensures bars are side by side\n",
    ")\n",
    "\n",
    "# Show the interactive plot\n",
    "fig.show()"
   ]
  },
  {
   "cell_type": "code",
   "execution_count": null,
   "metadata": {},
   "outputs": [],
   "source": []
  }
 ],
 "metadata": {
  "anaconda-cloud": {},
  "kernelspec": {
   "display_name": "my_first_env",
   "language": "python",
   "name": "python3"
  },
  "language_info": {
   "codemirror_mode": {
    "name": "ipython",
    "version": 3
   },
   "file_extension": ".py",
   "mimetype": "text/x-python",
   "name": "python",
   "nbconvert_exporter": "python",
   "pygments_lexer": "ipython3",
   "version": "3.12.12"
  }
 },
 "nbformat": 4,
 "nbformat_minor": 4
}
