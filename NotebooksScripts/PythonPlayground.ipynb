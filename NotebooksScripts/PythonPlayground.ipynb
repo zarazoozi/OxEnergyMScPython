{
 "cells": [
  {
   "cell_type": "markdown",
   "metadata": {},
   "source": [
    "<img src=\"https://media.licdn.com/dms/image/C561BAQEVCDe44Tt-kQ/company-background_10000/0?e=2159024400&v=beta&t=BglJGcQeWT2zCaG1sbW30jo9YOGOUCqQ6TOPnWPlra4\"/>"
   ]
  },
  {
   "cell_type": "markdown",
   "metadata": {},
   "source": [
    "# Your Playground \n",
    "\n",
    "As the name implies, use this Notebook to dump your ideas, refine them, or simply to explore Python in more detail during the course. Don't play too much during the course instruction however!\n",
    "\n"
   ]
  },
  {
   "cell_type": "code",
   "execution_count": 3,
   "metadata": {},
   "outputs": [
    {
     "name": "stdout",
     "output_type": "stream",
     "text": [
      "Hello, Zara!\n"
     ]
    }
   ],
   "source": [
    "# Go wild and develop\n",
    "import math\n",
    "\n",
    "print(\"Hello, Zara!\")\n",
    "\n"
   ]
  },
  {
   "cell_type": "code",
   "execution_count": null,
   "metadata": {},
   "outputs": [],
   "source": []
  }
 ],
 "metadata": {
  "anaconda-cloud": {},
  "kernelspec": {
   "display_name": "my_first_env",
   "language": "python",
   "name": "python3"
  },
  "language_info": {
   "codemirror_mode": {
    "name": "ipython",
    "version": 3
   },
   "file_extension": ".py",
   "mimetype": "text/x-python",
   "name": "python",
   "nbconvert_exporter": "python",
   "pygments_lexer": "ipython3",
   "version": "3.12.12"
  }
 },
 "nbformat": 4,
 "nbformat_minor": 4
}
