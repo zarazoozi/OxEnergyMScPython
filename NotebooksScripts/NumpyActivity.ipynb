{
 "cells": [
  {
   "cell_type": "markdown",
   "metadata": {},
   "source": [
    "# Numpy\n",
    "\n",
    "We will be learning about some basic programming and data analysis using Numpy and Pandas. First up - NumPy\n",
    "\n",
    "NumPy is the fundamental package for scientific computing in Python. It is used across many fields inc. Mathematics, Engineering, Finance, Data Science, Artificial Intelligence, Machine Learning etc. Most scientific computing libraries will build on NumPy.\n",
    "\n",
    "Numpy provides functions to work with N-dimensional arrays and an assortment of routines for fast operations on such arrays: matrix mathematics, logical, shape manipulation, statistical operations, random simulation etc."
   ]
  },
  {
   "cell_type": "markdown",
   "metadata": {},
   "source": [
    "## Basic Numpy tools\n",
    "\n",
    "<img src=\"https://matteding.github.io/images/broadcasting-3d-scalar.gif\" width=\"400\" height=\"400\" align=\"left\"/>\n"
   ]
  },
  {
   "cell_type": "markdown",
   "metadata": {},
   "source": [
    "Here, we will exam some fairly simple tools in Numpy for the management of data and doing basic statistics. First, lets make sure numpy is imported:\n"
   ]
  },
  {
   "cell_type": "code",
   "execution_count": 1,
   "metadata": {},
   "outputs": [],
   "source": [
    "import numpy as np"
   ]
  },
  {
   "cell_type": "markdown",
   "metadata": {},
   "source": [
    "### Array creation and Indexing\n",
    "\n",
    "In the cells below we will learn basic array creation and indexing\n"
   ]
  },
  {
   "cell_type": "code",
   "execution_count": 2,
   "metadata": {},
   "outputs": [
    {
     "name": "stdout",
     "output_type": "stream",
     "text": [
      "Numpy Array 'a':\n",
      "\n",
      "<class 'numpy.ndarray'>\n",
      "(3,)\n",
      "1 2 3\n",
      "[5 2 3] \n",
      "\n",
      "Numpy Array 'b':\n",
      "\n",
      "(2, 3)\n",
      "[[1 2 3]\n",
      " [4 5 6]]\n",
      "1 2 4\n"
     ]
    }
   ],
   "source": [
    "a = np.array([1, 2, 3])            # Create a simple array\n",
    "print(\"Numpy Array 'a':\\n\")\n",
    "print(type(a))                     # Prints type as recognised by Python\n",
    "print(a.shape)                     # Prints its shape\n",
    "print(a[0], a[1], a[2])            # Prints certain indexed values\n",
    "a[0] = 5                           # Change an element of the array\n",
    "print(a,\"\\n\")                   \n",
    "\n",
    "\n",
    "print(\"Numpy Array 'b':\\n\")\n",
    "b = np.array([[1,2,3],[4,5,6]])    # Create an array with more 'complexity'\n",
    "print(b.shape)\n",
    "print(b)                     \n",
    "print(b[0, 0], b[0, 1], b[1, 0])  \n"
   ]
  },
  {
   "cell_type": "markdown",
   "metadata": {},
   "source": [
    "### Array manipulation and mathematics\n",
    "Where numpy gets really powerful is its efficiency in array manipulation and mathematics."
   ]
  },
  {
   "cell_type": "code",
   "execution_count": 19,
   "metadata": {},
   "outputs": [
    {
     "name": "stdout",
     "output_type": "stream",
     "text": [
      "[[ 6  8]\n",
      " [10 12]] \n",
      "\n",
      "[[ 5 12]\n",
      " [21 32]] \n",
      "\n",
      "[[1.         1.41421356]\n",
      " [1.73205081 2.        ]] \n",
      "\n",
      "[[19 22]\n",
      " [43 50]] \n",
      "\n",
      "[-4 -4] \n",
      "\n"
     ]
    },
    {
     "name": "stderr",
     "output_type": "stream",
     "text": [
      "/var/folders/ph/1xp79yl93xndrwbtxxqf09t80000gn/T/ipykernel_28843/15743206.py:10: DeprecationWarning: Arrays of 2-dimensional vectors are deprecated. Use arrays of 3-dimensional vectors instead. (deprecated in NumPy 2.0)\n",
      "  print(np.cross(x, y),'\\n')\n"
     ]
    }
   ],
   "source": [
    "\n",
    "x = np.array([[1,2],[3,4]])\n",
    "y = np.array([[5,6],[7,8]])\n",
    "\n",
    "print(x + y,'\\n')\n",
    "print(x * y,'\\n') \n",
    "\n",
    "# numpy has many mathematical functions built in - accessed via dot notation\n",
    "print(np.sqrt(x),'\\n')\n",
    "print(np.dot(x, y),'\\n')\n",
    "print(np.cross(x, y),'\\n')"
   ]
  },
  {
   "cell_type": "markdown",
   "metadata": {},
   "source": [
    "Numpy also provides aggregation methods."
   ]
  },
  {
   "cell_type": "code",
   "execution_count": null,
   "metadata": {},
   "outputs": [],
   "source": [
    "print(x.sum())  # sum over the entire matrix\n",
    "print(y.mean(axis=1))  # mean of each row"
   ]
  },
  {
   "cell_type": "markdown",
   "metadata": {},
   "source": [
    "## Activity\n",
    "Your turn... <br>\n",
    "Add comments that explain what your code is doing"
   ]
  },
  {
   "cell_type": "markdown",
   "metadata": {},
   "source": [
    "#### 1) Create the following 3 x 4 array and call it 'c'\n",
    "\n",
    "[[ 1  2  3  4] <br>\n",
    " [ 5  6  7  8] <br>\n",
    " [ 9 10 11 12]] <br>"
   ]
  },
  {
   "cell_type": "code",
   "execution_count": 3,
   "metadata": {},
   "outputs": [
    {
     "name": "stdout",
     "output_type": "stream",
     "text": [
      "Numpy Array 'c':\n",
      "\n",
      "[[ 1  2  3  4]\n",
      " [ 5  6  7  8]\n",
      " [ 9 10 11 12]]\n",
      "(3, 4)\n"
     ]
    }
   ],
   "source": [
    "# Create the following 3 x 4 array and call it 'c':\n",
    "c = [[1, 2, 3, 4],\n",
    "     [5, 6, 7, 8],\n",
    "     [9, 10, 11, 12]]\n",
    "c = np.array(c)\n",
    "print(\"Numpy Array 'c':\\n\")\n",
    "print(c)\n",
    "print(c.shape)                   # Prints its shape "
   ]
  },
  {
   "cell_type": "markdown",
   "metadata": {},
   "source": [
    "#### 2) Print all values in rows 2 & 3"
   ]
  },
  {
   "cell_type": "code",
   "execution_count": 5,
   "metadata": {},
   "outputs": [
    {
     "name": "stdout",
     "output_type": "stream",
     "text": [
      "[[ 5  6  7  8]\n",
      " [ 9 10 11 12]]\n"
     ]
    }
   ],
   "source": [
    "# Print all values in rows 2 & 3\n",
    "print( c[1:3] )"
   ]
  },
  {
   "cell_type": "markdown",
   "metadata": {},
   "source": [
    "#### 3) Print the values in the 2nd row and in cols 1 & 3"
   ]
  },
  {
   "cell_type": "code",
   "execution_count": 6,
   "metadata": {},
   "outputs": [
    {
     "name": "stdout",
     "output_type": "stream",
     "text": [
      "[5 7]\n"
     ]
    }
   ],
   "source": [
    "# Print the values in the 2nd row and in cols 1 & 3\n",
    "print(c[1,[0,2]])\n"
   ]
  },
  {
   "cell_type": "markdown",
   "metadata": {},
   "source": [
    "#### 4) Perform a scalar multiplication of c with 4"
   ]
  },
  {
   "cell_type": "code",
   "execution_count": 7,
   "metadata": {},
   "outputs": [
    {
     "data": {
      "text/plain": [
       "array([[ 4,  8, 12, 16],\n",
       "       [20, 24, 28, 32],\n",
       "       [36, 40, 44, 48]])"
      ]
     },
     "execution_count": 7,
     "metadata": {},
     "output_type": "execute_result"
    }
   ],
   "source": [
    "# Perform a scalar multiplication of c with 4\n",
    "c*4"
   ]
  },
  {
   "cell_type": "markdown",
   "metadata": {},
   "source": [
    "#### 5) Transpose c"
   ]
  },
  {
   "cell_type": "code",
   "execution_count": 8,
   "metadata": {},
   "outputs": [
    {
     "data": {
      "text/plain": [
       "array([[ 1,  5,  9],\n",
       "       [ 2,  6, 10],\n",
       "       [ 3,  7, 11],\n",
       "       [ 4,  8, 12]])"
      ]
     },
     "execution_count": 8,
     "metadata": {},
     "output_type": "execute_result"
    }
   ],
   "source": [
    "# Transpose c\n",
    "c.T"
   ]
  },
  {
   "cell_type": "markdown",
   "metadata": {},
   "source": [
    "#### 6) Reshape c to a 4 x 3 array\n",
    "What is the difference between the transpose and reshape operations?"
   ]
  },
  {
   "cell_type": "code",
   "execution_count": 9,
   "metadata": {},
   "outputs": [
    {
     "data": {
      "text/plain": [
       "array([[ 1,  2,  3],\n",
       "       [ 4,  5,  6],\n",
       "       [ 7,  8,  9],\n",
       "       [10, 11, 12]])"
      ]
     },
     "execution_count": 9,
     "metadata": {},
     "output_type": "execute_result"
    }
   ],
   "source": [
    "# Reshape c to a 4 x 3 array\n",
    "c.reshape(4,3)\n"
   ]
  },
  {
   "cell_type": "markdown",
   "metadata": {},
   "source": [
    "#### 7) Perform an element-wise multiplication of the reshaped c and transposed c"
   ]
  },
  {
   "cell_type": "code",
   "execution_count": 10,
   "metadata": {},
   "outputs": [
    {
     "data": {
      "text/plain": [
       "array([[  1,  10,  27],\n",
       "       [  8,  30,  60],\n",
       "       [ 21,  56,  99],\n",
       "       [ 40,  88, 144]])"
      ]
     },
     "execution_count": 10,
     "metadata": {},
     "output_type": "execute_result"
    }
   ],
   "source": [
    "# Perform an element-wise multiplication of the reshaped c and transposed c\n",
    "c.reshape(4,3) *c.T"
   ]
  },
  {
   "cell_type": "markdown",
   "metadata": {},
   "source": [
    "### Random\n",
    "Random number generation plays a crucial role in configuring and evaluating many numerical and machine learning algorithms. Whether it's for randomly initializing weights in a neural network, splitting data into random subsets, or shuffling a dataset, the ability to generate random numbers (specifically repeatable pseudo-random numbers) is vital."
   ]
  },
  {
   "cell_type": "markdown",
   "metadata": {},
   "source": [
    "#### 8) Create a half hourly power profile for 1 year filled with random numbers between 0 and 50"
   ]
  },
  {
   "cell_type": "code",
   "execution_count": 15,
   "metadata": {},
   "outputs": [
    {
     "name": "stdout",
     "output_type": "stream",
     "text": [
      "[39 19  9 ... 21 24 14]\n"
     ]
    }
   ],
   "source": [
    "# create a half hourly power profile for 1 year filled with random numbers between 0 and 50\n",
    "Z=np.random.randint(0,50,(48*365))\n",
    "print(Z)\n"
   ]
  },
  {
   "cell_type": "markdown",
   "metadata": {},
   "source": [
    "#### 9) Reshape the array into daily half hour profiles"
   ]
  },
  {
   "cell_type": "code",
   "execution_count": 16,
   "metadata": {},
   "outputs": [
    {
     "name": "stdout",
     "output_type": "stream",
     "text": [
      "[[39 19  9 ... 11  2  0]\n",
      " [ 5  9 21 ... 35 28 15]\n",
      " [20 22 20 ...  6 19 42]\n",
      " ...\n",
      " [29  4 48 ... 33 38  9]\n",
      " [15 17  5 ... 14  3 32]\n",
      " [20 31  1 ... 21 24 14]]\n"
     ]
    }
   ],
   "source": [
    "# reshape the array into daily half hour profiles\n",
    "Z_daily=Z.reshape(365,48)\n",
    "print(Z_daily)"
   ]
  },
  {
   "cell_type": "markdown",
   "metadata": {},
   "source": [
    "#### 10) convert this array to energy"
   ]
  },
  {
   "cell_type": "code",
   "execution_count": 18,
   "metadata": {},
   "outputs": [
    {
     "name": "stdout",
     "output_type": "stream",
     "text": [
      "[[19.5  9.5  4.5 ...  5.5  1.   0. ]\n",
      " [ 2.5  4.5 10.5 ... 17.5 14.   7.5]\n",
      " [10.  11.  10.  ...  3.   9.5 21. ]\n",
      " ...\n",
      " [14.5  2.  24.  ... 16.5 19.   4.5]\n",
      " [ 7.5  8.5  2.5 ...  7.   1.5 16. ]\n",
      " [10.  15.5  0.5 ... 10.5 12.   7. ]]\n",
      "Total annual energy (Kwh):  215503.5\n"
     ]
    }
   ],
   "source": [
    "# convert to energy\n",
    "Z_daily_energy=Z_daily*0.5  #for Kwh as half hour intervals atm \n",
    "print(Z_daily_energy)\n",
    "# total annual energy \n",
    "total_annual_energy=Z_daily_energy.sum()\n",
    "print(\"Total annual energy (Kwh): \", total_annual_energy)"
   ]
  },
  {
   "cell_type": "markdown",
   "metadata": {},
   "source": [
    "  \n",
    "#### Animation and Code Sources  \n",
    "\n",
    "Numpy GIF: <a href=\"https://matteding.github.io/images/broadcasting-3d-scalar.gif\">Matt Eding</a>  \n"
   ]
  },
  {
   "cell_type": "code",
   "execution_count": null,
   "metadata": {},
   "outputs": [],
   "source": []
  },
  {
   "cell_type": "code",
   "execution_count": null,
   "metadata": {},
   "outputs": [],
   "source": []
  }
 ],
 "metadata": {
  "anaconda-cloud": {},
  "kernelspec": {
   "display_name": "my_first_env",
   "language": "python",
   "name": "python3"
  },
  "language_info": {
   "codemirror_mode": {
    "name": "ipython",
    "version": 3
   },
   "file_extension": ".py",
   "mimetype": "text/x-python",
   "name": "python",
   "nbconvert_exporter": "python",
   "pygments_lexer": "ipython3",
   "version": "3.12.12"
  }
 },
 "nbformat": 4,
 "nbformat_minor": 4
}
